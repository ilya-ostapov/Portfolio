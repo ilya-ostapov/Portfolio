{
 "cells": [
  {
   "cell_type": "code",
   "execution_count": 1,
   "metadata": {},
   "outputs": [],
   "source": [
    "import pandas as pd\n",
    "import seaborn as sns\n",
    "import scipy as sc\n",
    "import matplotlib.pyplot as plt\n",
    "import numpy as np\n",
    "import requests\n",
    "from urllib.parse import urlencode"
   ]
  },
  {
   "cell_type": "markdown",
   "metadata": {},
   "source": [
    "Подгрузим датафреймы. Так как файлы публичные, то **API ключ не нужен** - Яндекс позволяет их скачивать свободно."
   ]
  },
  {
   "cell_type": "code",
   "execution_count": 2,
   "metadata": {},
   "outputs": [],
   "source": [
    "urls = [\n",
    "    'https://disk.yandex.ru/d/UhyYx41rTt3clQ',   # Gropus\n",
    "    'https://disk.yandex.ru/d/5Kxrz02m3IBUwQ',   # groups add\n",
    "    'https://disk.yandex.ru/d/Tbs44Bm6H_FwFQ',   # active studs\n",
    "    'https://disk.yandex.ru/d/pH1q-VqcxXjsVA'    # checks\n",
    "]  \n",
    "\n",
    "seps = [';', ',', ';', ';']\n",
    "\n",
    "\n",
    "def initial_read(url_lst=urls, sep_lst=seps):\n",
    "    base_url = 'https://cloud-api.yandex.net/v1/disk/public/resources/download?'\n",
    "    df_list = []\n",
    "    for i in range(4):\n",
    "        url = base_url + urlencode(dict(public_key=url_lst[i]))\n",
    "        response = requests.get(url)\n",
    "        download_url = response.json()['href']\n",
    "        df = pd.read_csv(filepath_or_buffer=download_url, sep=sep_lst[i])\n",
    "        df_list.append(df)\n",
    "    global df_g, df_ga, df_as, df_c \n",
    "    df_g = df_list[0]   # Gropus\n",
    "    df_ga = df_list[1]  # groups add\n",
    "    df_as = df_list[2]  # active studs\n",
    "    df_c = df_list[3]   # checks\n",
    "\n",
    "initial_read()"
   ]
  },
  {
   "cell_type": "markdown",
   "metadata": {},
   "source": [
    "(Предварительный EDA)"
   ]
  },
  {
   "cell_type": "code",
   "execution_count": 3,
   "metadata": {},
   "outputs": [
    {
     "name": "stdout",
     "output_type": "stream",
     "text": [
      "8341\n"
     ]
    },
    {
     "data": {
      "text/html": [
       "<div>\n",
       "<style scoped>\n",
       "    .dataframe tbody tr th:only-of-type {\n",
       "        vertical-align: middle;\n",
       "    }\n",
       "\n",
       "    .dataframe tbody tr th {\n",
       "        vertical-align: top;\n",
       "    }\n",
       "\n",
       "    .dataframe thead th {\n",
       "        text-align: right;\n",
       "    }\n",
       "</style>\n",
       "<table border=\"1\" class=\"dataframe\">\n",
       "  <thead>\n",
       "    <tr style=\"text-align: right;\">\n",
       "      <th></th>\n",
       "      <th>student_id</th>\n",
       "    </tr>\n",
       "  </thead>\n",
       "  <tbody>\n",
       "    <tr>\n",
       "      <th>0</th>\n",
       "      <td>581585</td>\n",
       "    </tr>\n",
       "    <tr>\n",
       "      <th>1</th>\n",
       "      <td>5723133</td>\n",
       "    </tr>\n",
       "    <tr>\n",
       "      <th>2</th>\n",
       "      <td>3276743</td>\n",
       "    </tr>\n",
       "    <tr>\n",
       "      <th>3</th>\n",
       "      <td>4238589</td>\n",
       "    </tr>\n",
       "    <tr>\n",
       "      <th>4</th>\n",
       "      <td>4475369</td>\n",
       "    </tr>\n",
       "  </tbody>\n",
       "</table>\n",
       "</div>"
      ],
      "text/plain": [
       "   student_id\n",
       "0      581585\n",
       "1     5723133\n",
       "2     3276743\n",
       "3     4238589\n",
       "4     4475369"
      ]
     },
     "execution_count": 3,
     "metadata": {},
     "output_type": "execute_result"
    }
   ],
   "source": [
    "print(df_as.shape[0])\n",
    "df_as.head()"
   ]
  },
  {
   "cell_type": "code",
   "execution_count": 4,
   "metadata": {},
   "outputs": [
    {
     "name": "stdout",
     "output_type": "stream",
     "text": [
      "541\n"
     ]
    },
    {
     "data": {
      "text/html": [
       "<div>\n",
       "<style scoped>\n",
       "    .dataframe tbody tr th:only-of-type {\n",
       "        vertical-align: middle;\n",
       "    }\n",
       "\n",
       "    .dataframe tbody tr th {\n",
       "        vertical-align: top;\n",
       "    }\n",
       "\n",
       "    .dataframe thead th {\n",
       "        text-align: right;\n",
       "    }\n",
       "</style>\n",
       "<table border=\"1\" class=\"dataframe\">\n",
       "  <thead>\n",
       "    <tr style=\"text-align: right;\">\n",
       "      <th></th>\n",
       "      <th>student_id</th>\n",
       "      <th>rev</th>\n",
       "    </tr>\n",
       "  </thead>\n",
       "  <tbody>\n",
       "    <tr>\n",
       "      <th>0</th>\n",
       "      <td>1627</td>\n",
       "      <td>990.0</td>\n",
       "    </tr>\n",
       "    <tr>\n",
       "      <th>1</th>\n",
       "      <td>3185</td>\n",
       "      <td>690.0</td>\n",
       "    </tr>\n",
       "    <tr>\n",
       "      <th>2</th>\n",
       "      <td>25973</td>\n",
       "      <td>690.0</td>\n",
       "    </tr>\n",
       "    <tr>\n",
       "      <th>3</th>\n",
       "      <td>26280</td>\n",
       "      <td>690.0</td>\n",
       "    </tr>\n",
       "    <tr>\n",
       "      <th>4</th>\n",
       "      <td>100300</td>\n",
       "      <td>990.0</td>\n",
       "    </tr>\n",
       "  </tbody>\n",
       "</table>\n",
       "</div>"
      ],
      "text/plain": [
       "   student_id    rev\n",
       "0        1627  990.0\n",
       "1        3185  690.0\n",
       "2       25973  690.0\n",
       "3       26280  690.0\n",
       "4      100300  990.0"
      ]
     },
     "execution_count": 4,
     "metadata": {},
     "output_type": "execute_result"
    }
   ],
   "source": [
    "print(df_c.shape[0])\n",
    "df_c.head()"
   ]
  },
  {
   "cell_type": "code",
   "execution_count": 5,
   "metadata": {},
   "outputs": [
    {
     "name": "stdout",
     "output_type": "stream",
     "text": [
      "92\n"
     ]
    },
    {
     "data": {
      "text/html": [
       "<div>\n",
       "<style scoped>\n",
       "    .dataframe tbody tr th:only-of-type {\n",
       "        vertical-align: middle;\n",
       "    }\n",
       "\n",
       "    .dataframe tbody tr th {\n",
       "        vertical-align: top;\n",
       "    }\n",
       "\n",
       "    .dataframe thead th {\n",
       "        text-align: right;\n",
       "    }\n",
       "</style>\n",
       "<table border=\"1\" class=\"dataframe\">\n",
       "  <thead>\n",
       "    <tr style=\"text-align: right;\">\n",
       "      <th></th>\n",
       "      <th>id</th>\n",
       "      <th>grp</th>\n",
       "    </tr>\n",
       "  </thead>\n",
       "  <tbody>\n",
       "    <tr>\n",
       "      <th>0</th>\n",
       "      <td>5694584</td>\n",
       "      <td>B</td>\n",
       "    </tr>\n",
       "    <tr>\n",
       "      <th>1</th>\n",
       "      <td>5694830</td>\n",
       "      <td>B</td>\n",
       "    </tr>\n",
       "    <tr>\n",
       "      <th>2</th>\n",
       "      <td>5695057</td>\n",
       "      <td>B</td>\n",
       "    </tr>\n",
       "    <tr>\n",
       "      <th>3</th>\n",
       "      <td>5698872</td>\n",
       "      <td>B</td>\n",
       "    </tr>\n",
       "    <tr>\n",
       "      <th>4</th>\n",
       "      <td>5699067</td>\n",
       "      <td>B</td>\n",
       "    </tr>\n",
       "  </tbody>\n",
       "</table>\n",
       "</div>"
      ],
      "text/plain": [
       "        id grp\n",
       "0  5694584   B\n",
       "1  5694830   B\n",
       "2  5695057   B\n",
       "3  5698872   B\n",
       "4  5699067   B"
      ]
     },
     "execution_count": 5,
     "metadata": {},
     "output_type": "execute_result"
    }
   ],
   "source": [
    "print(df_ga.shape[0])\n",
    "df_ga.head()"
   ]
  },
  {
   "cell_type": "code",
   "execution_count": 6,
   "metadata": {},
   "outputs": [
    {
     "name": "stdout",
     "output_type": "stream",
     "text": [
      "74484\n"
     ]
    },
    {
     "data": {
      "text/html": [
       "<div>\n",
       "<style scoped>\n",
       "    .dataframe tbody tr th:only-of-type {\n",
       "        vertical-align: middle;\n",
       "    }\n",
       "\n",
       "    .dataframe tbody tr th {\n",
       "        vertical-align: top;\n",
       "    }\n",
       "\n",
       "    .dataframe thead th {\n",
       "        text-align: right;\n",
       "    }\n",
       "</style>\n",
       "<table border=\"1\" class=\"dataframe\">\n",
       "  <thead>\n",
       "    <tr style=\"text-align: right;\">\n",
       "      <th></th>\n",
       "      <th>id</th>\n",
       "      <th>grp</th>\n",
       "    </tr>\n",
       "  </thead>\n",
       "  <tbody>\n",
       "    <tr>\n",
       "      <th>0</th>\n",
       "      <td>1489</td>\n",
       "      <td>B</td>\n",
       "    </tr>\n",
       "    <tr>\n",
       "      <th>1</th>\n",
       "      <td>1627</td>\n",
       "      <td>A</td>\n",
       "    </tr>\n",
       "    <tr>\n",
       "      <th>2</th>\n",
       "      <td>1768</td>\n",
       "      <td>B</td>\n",
       "    </tr>\n",
       "    <tr>\n",
       "      <th>3</th>\n",
       "      <td>1783</td>\n",
       "      <td>B</td>\n",
       "    </tr>\n",
       "    <tr>\n",
       "      <th>4</th>\n",
       "      <td>1794</td>\n",
       "      <td>A</td>\n",
       "    </tr>\n",
       "  </tbody>\n",
       "</table>\n",
       "</div>"
      ],
      "text/plain": [
       "     id grp\n",
       "0  1489   B\n",
       "1  1627   A\n",
       "2  1768   B\n",
       "3  1783   B\n",
       "4  1794   A"
      ]
     },
     "execution_count": 6,
     "metadata": {},
     "output_type": "execute_result"
    }
   ],
   "source": [
    "print(df_g.shape[0])\n",
    "df_g.head()"
   ]
  },
  {
   "cell_type": "markdown",
   "metadata": {},
   "source": [
    "Проверим таблицы на баги. Есть ли в чеках, айди студентов, которые не попали в cписок активных студентов?"
   ]
  },
  {
   "cell_type": "code",
   "execution_count": 7,
   "metadata": {},
   "outputs": [
    {
     "name": "stdout",
     "output_type": "stream",
     "text": [
      "149\n"
     ]
    },
    {
     "data": {
      "text/plain": [
       "392"
      ]
     },
     "execution_count": 7,
     "metadata": {},
     "output_type": "execute_result"
    }
   ],
   "source": [
    "print(df_c[~df_c['student_id'].isin(df_as.student_id)].shape[0])  # Неактивные\n",
    "df_c[df_c['student_id'].isin(df_as.student_id)].shape[0]  # активные"
   ]
  },
  {
   "cell_type": "markdown",
   "metadata": {},
   "source": [
    "Таких записей почти треть.\n",
    "\n",
    "NB! Последующие методы исключают эих студентов, учитывая фильтрацию и merge слева. Но полезно отметить как факт, с точки зрения EDA.\n",
    "\n",
    "Все \"неактивные\" платящие студенты есть в группах. Т.о. скорее всего это ошибка составления списка Active students. Включить в анализ эти записи мы никак не можем, поскольку не известно, сколько не заплативших не попало в список активных, заходя при этом на платформу. Будем исходить из того, что ошибка происходит независимо от факта оплаты, то есть потеряно 30% заплативших и 30% не заплативших "
   ]
  },
  {
   "cell_type": "code",
   "execution_count": 8,
   "metadata": {},
   "outputs": [
    {
     "data": {
      "text/plain": [
       "149"
      ]
     },
     "execution_count": 8,
     "metadata": {},
     "output_type": "execute_result"
    }
   ],
   "source": [
    "df_c_bug = df_c[~df_c['student_id'].isin(df_as.student_id)]\n",
    "df_c_bug[df_c_bug['student_id'].isin(df_g.id)].shape[0]"
   ]
  },
  {
   "cell_type": "markdown",
   "metadata": {},
   "source": [
    "На последок посмотрим распределение \"аутсайдеров\" по группам. Забегая вперед, можно сказать, что оно примерно такое же как и в оставшейся группе."
   ]
  },
  {
   "cell_type": "code",
   "execution_count": 9,
   "metadata": {},
   "outputs": [
    {
     "data": {
      "text/html": [
       "<div>\n",
       "<style scoped>\n",
       "    .dataframe tbody tr th:only-of-type {\n",
       "        vertical-align: middle;\n",
       "    }\n",
       "\n",
       "    .dataframe tbody tr th {\n",
       "        vertical-align: top;\n",
       "    }\n",
       "\n",
       "    .dataframe thead th {\n",
       "        text-align: right;\n",
       "    }\n",
       "</style>\n",
       "<table border=\"1\" class=\"dataframe\">\n",
       "  <thead>\n",
       "    <tr style=\"text-align: right;\">\n",
       "      <th></th>\n",
       "      <th>grp</th>\n",
       "      <th>student_id</th>\n",
       "      <th>rev</th>\n",
       "      <th>id</th>\n",
       "    </tr>\n",
       "  </thead>\n",
       "  <tbody>\n",
       "    <tr>\n",
       "      <th>0</th>\n",
       "      <td>A</td>\n",
       "      <td>29</td>\n",
       "      <td>29</td>\n",
       "      <td>29</td>\n",
       "    </tr>\n",
       "    <tr>\n",
       "      <th>1</th>\n",
       "      <td>B</td>\n",
       "      <td>120</td>\n",
       "      <td>120</td>\n",
       "      <td>120</td>\n",
       "    </tr>\n",
       "  </tbody>\n",
       "</table>\n",
       "</div>"
      ],
      "text/plain": [
       "  grp  student_id  rev   id\n",
       "0   A          29   29   29\n",
       "1   B         120  120  120"
      ]
     },
     "execution_count": 9,
     "metadata": {},
     "output_type": "execute_result"
    }
   ],
   "source": [
    "df_c_bug.merge(df_g, how='left', left_on='student_id', right_on='id').groupby('grp', as_index=False).count()"
   ]
  },
  {
   "cell_type": "markdown",
   "metadata": {},
   "source": [
    "## Задание 1"
   ]
  },
  {
   "cell_type": "markdown",
   "metadata": {},
   "source": [
    "Выбокри из сравниваемых групп будут формироваться только для активных студентов - так как речь идет о нововведении в сфере оплаты, то не зашедшие скорее всего даже не знают о его существовании."
   ]
  },
  {
   "cell_type": "code",
   "execution_count": 10,
   "metadata": {},
   "outputs": [
    {
     "data": {
      "text/html": [
       "<div>\n",
       "<style scoped>\n",
       "    .dataframe tbody tr th:only-of-type {\n",
       "        vertical-align: middle;\n",
       "    }\n",
       "\n",
       "    .dataframe tbody tr th {\n",
       "        vertical-align: top;\n",
       "    }\n",
       "\n",
       "    .dataframe thead th {\n",
       "        text-align: right;\n",
       "    }\n",
       "</style>\n",
       "<table border=\"1\" class=\"dataframe\">\n",
       "  <thead>\n",
       "    <tr style=\"text-align: right;\">\n",
       "      <th></th>\n",
       "      <th>id</th>\n",
       "      <th>grp</th>\n",
       "    </tr>\n",
       "  </thead>\n",
       "  <tbody>\n",
       "    <tr>\n",
       "      <th>0</th>\n",
       "      <td>1489</td>\n",
       "      <td>B</td>\n",
       "    </tr>\n",
       "    <tr>\n",
       "      <th>1</th>\n",
       "      <td>1627</td>\n",
       "      <td>A</td>\n",
       "    </tr>\n",
       "    <tr>\n",
       "      <th>2</th>\n",
       "      <td>1768</td>\n",
       "      <td>B</td>\n",
       "    </tr>\n",
       "    <tr>\n",
       "      <th>3</th>\n",
       "      <td>1783</td>\n",
       "      <td>B</td>\n",
       "    </tr>\n",
       "    <tr>\n",
       "      <th>4</th>\n",
       "      <td>1794</td>\n",
       "      <td>A</td>\n",
       "    </tr>\n",
       "    <tr>\n",
       "      <th>...</th>\n",
       "      <td>...</td>\n",
       "      <td>...</td>\n",
       "    </tr>\n",
       "    <tr>\n",
       "      <th>74571</th>\n",
       "      <td>200247820</td>\n",
       "      <td>B</td>\n",
       "    </tr>\n",
       "    <tr>\n",
       "      <th>74572</th>\n",
       "      <td>201032527</td>\n",
       "      <td>B</td>\n",
       "    </tr>\n",
       "    <tr>\n",
       "      <th>74573</th>\n",
       "      <td>201067612</td>\n",
       "      <td>B</td>\n",
       "    </tr>\n",
       "    <tr>\n",
       "      <th>74574</th>\n",
       "      <td>201067653</td>\n",
       "      <td>B</td>\n",
       "    </tr>\n",
       "    <tr>\n",
       "      <th>74575</th>\n",
       "      <td>201067659</td>\n",
       "      <td>B</td>\n",
       "    </tr>\n",
       "  </tbody>\n",
       "</table>\n",
       "<p>74576 rows × 2 columns</p>\n",
       "</div>"
      ],
      "text/plain": [
       "              id grp\n",
       "0           1489   B\n",
       "1           1627   A\n",
       "2           1768   B\n",
       "3           1783   B\n",
       "4           1794   A\n",
       "...          ...  ..\n",
       "74571  200247820   B\n",
       "74572  201032527   B\n",
       "74573  201067612   B\n",
       "74574  201067653   B\n",
       "74575  201067659   B\n",
       "\n",
       "[74576 rows x 2 columns]"
      ]
     },
     "execution_count": 10,
     "metadata": {},
     "output_type": "execute_result"
    }
   ],
   "source": [
    "df_gr = pd.concat([df_g, df_ga], ignore_index=True)  # Сразу подтянем доп. датафрейм.\n",
    "df_gr_as = df_gr[df_gr['id'].isin(df_as.student_id)]  # Оставим только активных студентов\n",
    "df_gr"
   ]
  },
  {
   "cell_type": "code",
   "execution_count": 11,
   "metadata": {},
   "outputs": [
    {
     "data": {
      "text/plain": [
       "392"
      ]
     },
     "execution_count": 11,
     "metadata": {},
     "output_type": "execute_result"
    }
   ],
   "source": [
    "df_c = df_c.rename(columns={'student_id': 'id'})  # Переименум колонку с id в чеках\n",
    "df_gr_as1 = df_gr_as.merge(df_c, how='left', on='id')  # Добавим чеки\n",
    "df_gr_as1.rev.count()"
   ]
  },
  {
   "cell_type": "code",
   "execution_count": 12,
   "metadata": {},
   "outputs": [
    {
     "data": {
      "text/plain": [
       "<seaborn.axisgrid.FacetGrid at 0x7f8e09f91e80>"
      ]
     },
     "execution_count": 12,
     "metadata": {},
     "output_type": "execute_result"
    },
    {
     "data": {
      "image/png": "[encoded data removed]",
      "text/plain": [
       "<Figure size 402.875x360 with 1 Axes>"
      ]
     },
     "metadata": {
      "needs_background": "light"
     },
     "output_type": "display_data"
    }
   ],
   "source": [
    "sns.displot(data=df_gr_as1, x='rev', hue='grp')  # Посмотрим распределения по чекам для групп"
   ]
  },
  {
   "cell_type": "code",
   "execution_count": 13,
   "metadata": {},
   "outputs": [
    {
     "data": {
      "text/plain": [
       "<matplotlib.axes._subplots.AxesSubplot at 0x7f8df5497588>"
      ]
     },
     "execution_count": 13,
     "metadata": {},
     "output_type": "execute_result"
    },
    {
     "data": {
      "image/png": "[encoded data removed]",
      "text/plain": [
       "<Figure size 432x288 with 1 Axes>"
      ]
     },
     "metadata": {
      "needs_background": "light"
     },
     "output_type": "display_data"
    }
   ],
   "source": [
    "sns.histplot(data=df_gr_as1, x='rev', hue='grp', stat='probability', common_norm=False)  # они же - нормализованные"
   ]
  },
  {
   "cell_type": "markdown",
   "metadata": {},
   "source": [
    "Выдвинем 2 нулевых гипотезы:\n",
    "    1. Конверсия в целевой группе не отличается от контрольной \n",
    "    2. Средняя выручка на покупателя в группах не отличается.\n",
    "Первую гипотезу будет удобно проверить при помощи критерия &chi;-квадрат.\n",
    "Вторую можно проверить при помощи t-криетерия Стьюдента."
   ]
  },
  {
   "cell_type": "code",
   "execution_count": 14,
   "metadata": {},
   "outputs": [
    {
     "data": {
      "text/html": [
       "<div>\n",
       "<style scoped>\n",
       "    .dataframe tbody tr th:only-of-type {\n",
       "        vertical-align: middle;\n",
       "    }\n",
       "\n",
       "    .dataframe tbody tr th {\n",
       "        vertical-align: top;\n",
       "    }\n",
       "\n",
       "    .dataframe thead th {\n",
       "        text-align: right;\n",
       "    }\n",
       "</style>\n",
       "<table border=\"1\" class=\"dataframe\">\n",
       "  <thead>\n",
       "    <tr style=\"text-align: right;\">\n",
       "      <th></th>\n",
       "      <th>id</th>\n",
       "      <th>rev</th>\n",
       "    </tr>\n",
       "    <tr>\n",
       "      <th>grp</th>\n",
       "      <th></th>\n",
       "      <th></th>\n",
       "    </tr>\n",
       "  </thead>\n",
       "  <tbody>\n",
       "    <tr>\n",
       "      <th>A</th>\n",
       "      <td>1538</td>\n",
       "      <td>78</td>\n",
       "    </tr>\n",
       "    <tr>\n",
       "      <th>B</th>\n",
       "      <td>6803</td>\n",
       "      <td>314</td>\n",
       "    </tr>\n",
       "  </tbody>\n",
       "</table>\n",
       "</div>"
      ],
      "text/plain": [
       "       id  rev\n",
       "grp           \n",
       "A    1538   78\n",
       "B    6803  314"
      ]
     },
     "execution_count": 14,
     "metadata": {},
     "output_type": "execute_result"
    }
   ],
   "source": [
    "df_gr_as1.groupby('grp').count()  # первая колонка - всего, вторая - купили "
   ]
  },
  {
   "cell_type": "code",
   "execution_count": 15,
   "metadata": {},
   "outputs": [
    {
     "data": {
      "text/plain": [
       "Power_divergenceResult(statistic=3.2086063333048678, pvalue=0.07325185289471631)"
      ]
     },
     "execution_count": 15,
     "metadata": {},
     "output_type": "execute_result"
    }
   ],
   "source": [
    "exp = [round((6803) / (1538) * (1538 - 78)), round((6803) / (1538) * 78)]  # ожидаемое [купили, не купили].\n",
    "obs = [6803 - 314, 314]  # Наблюдаемое\n",
    "sc.stats.chisquare(exp, obs)"
   ]
  },
  {
   "cell_type": "markdown",
   "metadata": {},
   "source": [
    "Наблюдаемые различия в конверсиях не являются стат значимыми. Нет оснований отвергнуть нулевую гипотезу 1.\n",
    "\n",
    "Теперь проверим гипотезу 2:"
   ]
  },
  {
   "cell_type": "code",
   "execution_count": 16,
   "metadata": {},
   "outputs": [
    {
     "name": "stdout",
     "output_type": "stream",
     "text": [
      "Ttest_indResult(statistic=-3.1337795050930985, pvalue=0.0018562025265765867)\n",
      "A mean = 933.5897435897435±208.3237363705694\n",
      "B mean = 1257.8789920382164±89.26210371556901\n"
     ]
    }
   ],
   "source": [
    "Abuyer = df_gr_as1[(df_gr_as1['grp'] == 'A') & (~df_gr_as1.rev.isnull())].rev  # Покупатели в группе А(контроль)\n",
    "Bbuyer = df_gr_as1[(df_gr_as1['grp'] == 'B') & (~df_gr_as1.rev.isnull())].rev  # Покупатели в группе В(тест)\n",
    "\n",
    "print(sc.stats.ttest_ind(Abuyer.values, Bbuyer.values))\n",
    "\n",
    "print('A mean = ', end='')\n",
    "print(Abuyer.mean(), end='')\n",
    "print('±', end='')\n",
    "print(2 * sc.stats.sem(Abuyer.values))\n",
    "print('B mean = ', end='')\n",
    "print(Bbuyer.mean(), end='')\n",
    "print('±', end='')\n",
    "print(2 * sc.stats.sem(Bbuyer.values))"
   ]
  },
  {
   "cell_type": "markdown",
   "metadata": {},
   "source": [
    "Критерий Левена говорит о незначимых различиях в дисперсиях. Сильных выбросов также не наблюадется, поэтому т-тест корректен."
   ]
  },
  {
   "cell_type": "code",
   "execution_count": 17,
   "metadata": {},
   "outputs": [
    {
     "name": "stdout",
     "output_type": "stream",
     "text": [
      "variation A = 0.9790346242832775\n",
      "variation B = 0.6277264479491601\n"
     ]
    },
    {
     "data": {
      "text/plain": [
       "LeveneResult(statistic=3.075681699981606, pvalue=0.08025675761347022)"
      ]
     },
     "execution_count": 17,
     "metadata": {},
     "output_type": "execute_result"
    }
   ],
   "source": [
    "print('variation A = ', end='')\n",
    "print(sc.stats.variation(Abuyer.values))\n",
    "print('variation B = ', end='')\n",
    "print(sc.stats.variation(Bbuyer.values))\n",
    "\n",
    "sc.stats.levene(Abuyer.values, Bbuyer.values)"
   ]
  },
  {
   "cell_type": "markdown",
   "metadata": {},
   "source": [
    "Нулевая гипотеза о равенстве средних чеков отклоняется. Чек в груупе B в срденем выше."
   ]
  },
  {
   "cell_type": "markdown",
   "metadata": {},
   "source": [
    "Учитывая ненормальность распределения..."
   ]
  },
  {
   "cell_type": "code",
   "execution_count": 18,
   "metadata": {},
   "outputs": [
    {
     "name": "stdout",
     "output_type": "stream",
     "text": [
      "normal test for A:NormaltestResult(statistic=30.378419638487475, pvalue=2.5316868804220266e-07)\n",
      "normal test for B:NormaltestResult(statistic=6.795662714490353, pvalue=0.033445723194625424)\n"
     ]
    }
   ],
   "source": [
    "print('normal test for A:', end='')\n",
    "print(sc.stats.normaltest(Abuyer.values))\n",
    "print('normal test for B:', end='')\n",
    "print(sc.stats.normaltest(Bbuyer.values))"
   ]
  },
  {
   "cell_type": "markdown",
   "metadata": {},
   "source": [
    "...дополнительно проверим наши распеределения методом Bootstrap. Распределения средних с доверительным интервалом 95% не пересекаются, что подтверждает статзначимые различия.  \n",
    "NB! Учитывая монетраность рассчитываемых метрик, нас интересует именно **среднее** (мат. ожидание)."
   ]
  },
  {
   "cell_type": "code",
   "execution_count": 30,
   "metadata": {},
   "outputs": [
    {
     "name": "stdout",
     "output_type": "stream",
     "text": [
      "for A:BootstrapResult(confidence_interval=ConfidenceInterval(low=754.1743444021093, high=1165.1317936104551), standard_error=102.94269251032497)\n",
      "for B:BootstrapResult(confidence_interval=ConfidenceInterval(low=1173.6374650300813, high=1347.3385246259174), standard_error=44.3208429432504)\n"
     ]
    }
   ],
   "source": [
    "data = (Abuyer.values, )\n",
    "print('for A:', end='')\n",
    "print(sc.stats.bootstrap(data, statistic=np.mean))\n",
    "data2 = (Bbuyer.values, )\n",
    "print('for B:', end='')\n",
    "print(sc.stats.bootstrap(data2, statistic=np.mean))\n"
   ]
  },
  {
   "cell_type": "markdown",
   "metadata": {},
   "source": [
    "### Вывод"
   ]
  },
  {
   "cell_type": "markdown",
   "metadata": {},
   "source": [
    "Учитывая контекст задачи (влияние страницы оплаты) ключевая метрика эффектиности - ARPAU является произведением конверсии активных пользователей и среднего чека (платящих клиентов).  \n",
    "В целевой группе средняя выручка по выборке покупателей статзначимо выше - 1257±89 против 934±208.  \n",
    "Статистически значимых различий в конверсии не обнаружено. Фактические конверсии составили 0.0462 и 0.0507 в тесте и контроле сответственно.  \n",
    "Доверительные интервалы (95%) для ARPAU 58&plusmn;4 в тестовой против 47&plusmn10 в контрольной.  \n",
    "Доверительные интервалы для ARPAU пересекаются, что не позволяет говорить о статзначимых различиях в эффективности (по выручке) при критическом p-value = 0.05.  \n",
    "Таким образом, можно утверждать, что нет стат значимых оснований полагать, что новая платформа повысит выручку, оснований для ее введения недостаточно."
   ]
  },
  {
   "cell_type": "markdown",
   "metadata": {},
   "source": [
    "##### Небольшое пояснение.\n",
    "Несмотря на то, что распределение средних для чека статистически различимы - случай практически пограничный.  \n",
    "Также, не смотря на то, что разница в конверсии стат не значима, в контроле она чуть больше (на 9%). Таким образом, доверительные интервалы по ARPU уже перекрываются. Если бы мы взяли усредненную конверсию (=0.05), то получили бы ошибку I рода, из-за погрешности округления. На самом деле и у конверсии есть некое стандартное отклонение, что еще сильнее увеличивает доверительный интервал ARPU (как результат произведения двух независимых величин со своими дисперсиями )"
   ]
  },
  {
   "cell_type": "markdown",
   "metadata": {},
   "source": [
    "## Задание 2."
   ]
  },
  {
   "cell_type": "markdown",
   "metadata": {},
   "source": [
    "С запросами можно ознакомится:\n",
    "    1.https://redash.lab.karpov.courses/queries/55529\n",
    "    2.https://redash.lab.karpov.courses/queries/55591"
   ]
  },
  {
   "cell_type": "markdown",
   "metadata": {},
   "source": [
    "## Задание 3."
   ]
  },
  {
   "cell_type": "markdown",
   "metadata": {},
   "source": [
    "Функция догрузки.  \n",
    "Функция загружает доп таблицу по url с Яндекс Диска.  \n",
    "Для тестирования по умолчанию основной датафрейм - загруженный через initial_read().  \n",
    "Загружаемый датасет по умолчанию - groups_ad.  \n",
    "Если например, загружена третья таблица с группами - передать текущую таблицу и новый url, если он был изменен.  \n",
    "Булевый параметр write если True - дополненная таблица сохранится локально как Groups_total."
   ]
  },
  {
   "cell_type": "code",
   "execution_count": 22,
   "metadata": {},
   "outputs": [
    {
     "data": {
      "text/html": [
       "<div>\n",
       "<style scoped>\n",
       "    .dataframe tbody tr th:only-of-type {\n",
       "        vertical-align: middle;\n",
       "    }\n",
       "\n",
       "    .dataframe tbody tr th {\n",
       "        vertical-align: top;\n",
       "    }\n",
       "\n",
       "    .dataframe thead th {\n",
       "        text-align: right;\n",
       "    }\n",
       "</style>\n",
       "<table border=\"1\" class=\"dataframe\">\n",
       "  <thead>\n",
       "    <tr style=\"text-align: right;\">\n",
       "      <th></th>\n",
       "      <th>A</th>\n",
       "      <th>B</th>\n",
       "    </tr>\n",
       "    <tr>\n",
       "      <th></th>\n",
       "      <th></th>\n",
       "      <th></th>\n",
       "    </tr>\n",
       "  </thead>\n",
       "  <tbody>\n",
       "    <tr>\n",
       "      <th>Конверсия</th>\n",
       "      <td>0.050715</td>\n",
       "      <td>0.046156</td>\n",
       "    </tr>\n",
       "    <tr>\n",
       "      <th>Средний чек</th>\n",
       "      <td>933.589744</td>\n",
       "      <td>1257.878992</td>\n",
       "    </tr>\n",
       "  </tbody>\n",
       "</table>\n",
       "</div>"
      ],
      "text/plain": [
       "                      A            B\n",
       "                                    \n",
       "Конверсия      0.050715     0.046156\n",
       "Средний чек  933.589744  1257.878992"
      ]
     },
     "metadata": {},
     "output_type": "display_data"
    },
    {
     "data": {
      "text/html": [
       "<div>\n",
       "<style scoped>\n",
       "    .dataframe tbody tr th:only-of-type {\n",
       "        vertical-align: middle;\n",
       "    }\n",
       "\n",
       "    .dataframe tbody tr th {\n",
       "        vertical-align: top;\n",
       "    }\n",
       "\n",
       "    .dataframe thead th {\n",
       "        text-align: right;\n",
       "    }\n",
       "</style>\n",
       "<table border=\"1\" class=\"dataframe\">\n",
       "  <thead>\n",
       "    <tr style=\"text-align: right;\">\n",
       "      <th></th>\n",
       "      <th>id</th>\n",
       "      <th>grp</th>\n",
       "    </tr>\n",
       "  </thead>\n",
       "  <tbody>\n",
       "    <tr>\n",
       "      <th>0</th>\n",
       "      <td>1489</td>\n",
       "      <td>B</td>\n",
       "    </tr>\n",
       "    <tr>\n",
       "      <th>1</th>\n",
       "      <td>1627</td>\n",
       "      <td>A</td>\n",
       "    </tr>\n",
       "    <tr>\n",
       "      <th>2</th>\n",
       "      <td>1768</td>\n",
       "      <td>B</td>\n",
       "    </tr>\n",
       "    <tr>\n",
       "      <th>3</th>\n",
       "      <td>1783</td>\n",
       "      <td>B</td>\n",
       "    </tr>\n",
       "    <tr>\n",
       "      <th>4</th>\n",
       "      <td>1794</td>\n",
       "      <td>A</td>\n",
       "    </tr>\n",
       "    <tr>\n",
       "      <th>...</th>\n",
       "      <td>...</td>\n",
       "      <td>...</td>\n",
       "    </tr>\n",
       "    <tr>\n",
       "      <th>74571</th>\n",
       "      <td>200247820</td>\n",
       "      <td>B</td>\n",
       "    </tr>\n",
       "    <tr>\n",
       "      <th>74572</th>\n",
       "      <td>201032527</td>\n",
       "      <td>B</td>\n",
       "    </tr>\n",
       "    <tr>\n",
       "      <th>74573</th>\n",
       "      <td>201067612</td>\n",
       "      <td>B</td>\n",
       "    </tr>\n",
       "    <tr>\n",
       "      <th>74574</th>\n",
       "      <td>201067653</td>\n",
       "      <td>B</td>\n",
       "    </tr>\n",
       "    <tr>\n",
       "      <th>74575</th>\n",
       "      <td>201067659</td>\n",
       "      <td>B</td>\n",
       "    </tr>\n",
       "  </tbody>\n",
       "</table>\n",
       "<p>74576 rows × 2 columns</p>\n",
       "</div>"
      ],
      "text/plain": [
       "              id grp\n",
       "0           1489   B\n",
       "1           1627   A\n",
       "2           1768   B\n",
       "3           1783   B\n",
       "4           1794   A\n",
       "...          ...  ..\n",
       "74571  200247820   B\n",
       "74572  201032527   B\n",
       "74573  201067612   B\n",
       "74574  201067653   B\n",
       "74575  201067659   B\n",
       "\n",
       "[74576 rows x 2 columns]"
      ]
     },
     "execution_count": 22,
     "metadata": {},
     "output_type": "execute_result"
    }
   ],
   "source": [
    "def add_func(curr_df=df_g, url_add=urls[1], write=False):\n",
    "    base_url = 'https://cloud-api.yandex.net/v1/disk/public/resources/download?'\n",
    "    url = base_url + urlencode(dict(public_key=url_add))\n",
    "    response = requests.get(url)\n",
    "    download_url = response.json()['href']\n",
    "    df_ad = pd.read_csv(filepath_or_buffer=download_url)\n",
    "    \n",
    "    lst = df_ad.columns.to_list()  # Список с именами, какие бы они не были \n",
    "    df_ad = df_ad.rename(columns={lst[0]: 'id', lst[1]: 'grp'})  # переименование колонок догружаемого для конкатенции\n",
    "    df_tot = pd.concat([curr_df, df_ad], ignore_index=True)  # конкатенция\n",
    "    \n",
    "    df_c1 = df_c.copy()\n",
    "    df_c1 = df_c1.rename(columns={'student_id': 'id'})\n",
    "    # подгрузка чеков для расчета метрик\n",
    "    df = df_tot[df_tot['id'].isin(df_as.student_id)].merge(df_c1, how='left', on='id')  \n",
    "    \n",
    "    # метрики\n",
    "    data = {' ': ['Конверсия', 'Средний чек'],\n",
    "            'A': [df[(df['grp'] == 'A') & (~df['rev'].isnull())].rev.count() / df[df['grp'] == 'A'] \\\n",
    "                  .id.count(), df[(df['grp'] == 'A') & (~df['rev'].isnull())].rev.mean()],\n",
    "            'B': [df[(df['grp'] == 'B') & (~df['rev'].isnull())].rev.count() / df[df['grp'] == 'B'] \\\n",
    "                  .id.count(), df[(df['grp'] == 'B') & (~df['rev'].isnull())].rev.mean()]\n",
    "            }\n",
    "    df_conv = pd.DataFrame(data)\n",
    "    df_conv = df_conv.set_index(df_conv[' '])\n",
    "    df_conv = df_conv.drop(columns=[' '])\n",
    "\n",
    "    display(df_conv)  # вывод метрик\n",
    "    \n",
    "    if write:\n",
    "        df_tot.to_csv('Groups_total.csv', index=False)\n",
    "    \n",
    "    return df_tot  # возврат доплненого дф (без чеков)\n",
    "\n",
    "add_func()"
   ]
  },
  {
   "cell_type": "markdown",
   "metadata": {},
   "source": [
    "Функция визуализации.\n",
    "По умолчанию идет дополненная функция из основного блока.\n",
    "Для использования в случае с новым дополнениями вызвать функцию add_func(), результат функции передать в graph_plot()."
   ]
  },
  {
   "cell_type": "code",
   "execution_count": null,
   "metadata": {},
   "outputs": [],
   "source": [
    "def graph_plot(df=df_gr):\n",
    "    df = df[df['id'].isin(df_as.student_id)]  # Оставить только покупателей\n",
    "    df_c1 = df_c.copy()\n",
    "    df_c1 = df_c1.rename(columns={'student_id': 'id'})\n",
    "    df = df.merge(df_c, how='left', on='id')  # Добавить чеки\n",
    "    bins = int(df.rev.max() // 600)\n",
    "    sns.displot(data=df, x='rev', hue='grp', bins=bins)  # Распределения\n",
    "    \n",
    "    plt.show()\n",
    "     \n",
    "    sns.boxplot(y='rev', data=df, x='grp')  # Средние чеки\n",
    "    plt.title('Средний чек', fontsize=14, fontweight='bold', pad=15)\n",
    "    \n",
    "    plt.show()\n",
    "graph_plot()"
   ]
  },
  {
   "cell_type": "markdown",
   "metadata": {},
   "source": [
    "Демонстрационная версия скрипта, которая догружает и строит графики - в ветке - add_vis_script.py"
   ]
  }
 ],
 "metadata": {
  "kernelspec": {
   "display_name": "Python 3",
   "language": "python",
   "name": "python3"
  },
  "language_info": {
   "codemirror_mode": {
    "name": "ipython",
    "version": 3
   },
   "file_extension": ".py",
   "mimetype": "text/x-python",
   "name": "python",
   "nbconvert_exporter": "python",
   "pygments_lexer": "ipython3",
   "version": "3.7.3"
  }
 },
 "nbformat": 4,
 "nbformat_minor": 4
}
